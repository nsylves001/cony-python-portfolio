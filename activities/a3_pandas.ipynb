{
  "cells": [
    {
      "cell_type": "markdown",
      "id": "26550237-15cd-45e2-81e1-556bad05a917",
      "metadata": {
        "id": "26550237-15cd-45e2-81e1-556bad05a917"
      },
      "source": [
        "# Activity 3: Practicing with Pandas"
      ]
    },
    {
      "cell_type": "code",
      "source": [
        "from google.colab import drive\n",
        "drive.mount('/content/drive')"
      ],
      "metadata": {
        "colab": {
          "base_uri": "https://localhost:8080/"
        },
        "id": "bdHxAb99cs4U",
        "outputId": "97b64d7b-0ab3-448f-ac2f-005bc758622a"
      },
      "id": "bdHxAb99cs4U",
      "execution_count": 1,
      "outputs": [
        {
          "output_type": "stream",
          "name": "stdout",
          "text": [
            "Mounted at /content/drive\n"
          ]
        }
      ]
    },
    {
      "cell_type": "markdown",
      "id": "4765796a-69ae-4a80-9529-2843912df581",
      "metadata": {
        "id": "4765796a-69ae-4a80-9529-2843912df581"
      },
      "source": [
        "For this activity, we will assume the role of a data scientist in the search for and evaluation of public datasets. In turn, pay close attention to the dataset you choose for counter narratives or nonapparent political values, gaps or underrepresented perspectives.\n",
        "\n",
        "Please make sure you open this file in Jupyter Notebook or Google Colab -- you will have to either open Jupyter Notebook first or upload the file to Google Colab before being able to edit the file.\n",
        "\n",
        "Please make sure you **print your output.** You may need to use ```print``` for your output to be displayed.\n",
        "\n",
        "-----\n",
        "## Submission Instructions\n",
        "1. Upload the completed activity to the \"Activities\" folder of your GitHub Portfolio;\n",
        "2. Ensure your submission consists of two files: <br/>(a) one single-page reflection in markdown (e.g. `a3_reflection.md`);  <br/>(b) one Jupyter notebook with completed responses to each activity step (e.g. `a3_pandas.ipynb`)."
      ]
    },
    {
      "cell_type": "markdown",
      "id": "b87c910a-66ee-4166-9737-546b68d3e61e",
      "metadata": {
        "id": "b87c910a-66ee-4166-9737-546b68d3e61e"
      },
      "source": [
        "## Data biography: Trans-Atlantic Slave Trade dataset\n",
        "\n",
        "To complete the assignment, please make sure you download the dataset from where it hosted on our GitHub: [Trans-Atlantic-Slave-Trade_Americas.csv](https://github.com/zmuhls/ccny-data-science/blob/main/assets/datasets/Trans-Atlantic-Slave-Trade_Americas.csv)"
      ]
    },
    {
      "cell_type": "markdown",
      "id": "8749ea10-27e1-4210-b638-abe62a45f609",
      "metadata": {
        "id": "8749ea10-27e1-4210-b638-abe62a45f609"
      },
      "source": [
        "## Data Biography (1-2 Paragraphs)\n",
        "\n",
        "Before you begin your exploration, you will provide a short data biography (1 - 2 paragraphs) on the dataset that addresses **where the data came from, who collected it, and the original intention(s) for its collection.**\n",
        "\n",
        "You may find the following sources useful for your research:\n",
        "* [Slave Voyages' Trans-Atlantic Slave Trade methodology](https://www.slavevoyages.org/voyage/about#methodology/introduction/0/en/)\n",
        "    * You may find the sections: Introduction, Coverage of the Slave Trade, and Nature of Sources particularly useful.\n",
        "* [Slave Voyages' About](https://www.slavevoyages.org/about/about#)\n",
        "* [Jamelle Bouie's We Still Can’t See American Slavery for What It Was](https://csc10800.github.io/assets/pdf/Bouie_we_still_cant_see_american_slavery_for_what_it_is.pdf)"
      ]
    },
    {
      "cell_type": "markdown",
      "id": "a40ee643-dbe8-4059-8953-95c11f938235",
      "metadata": {
        "jp-MarkdownHeadingCollapsed": true,
        "id": "a40ee643-dbe8-4059-8953-95c11f938235"
      },
      "source": [
        "**Enclose Data Biography below (1-2 Paragraph)**:\n",
        "</br>\n",
        "</br>\n",
        "</br>\n",
        "This dataset is used for the purpose of expressing through code how the atlantic world changed due to slavery. It helps add to the coding language so, that it may have new information to use when trying to tell history or trying to use history accurately. It is used to simulate new information on the slave trade and use it for purposes beyond the slave trade."
      ]
    },
    {
      "cell_type": "markdown",
      "id": "1dc86a86-51b2-4bcf-8ad4-18901364e363",
      "metadata": {
        "id": "1dc86a86-51b2-4bcf-8ad4-18901364e363"
      },
      "source": [
        "-----"
      ]
    },
    {
      "cell_type": "markdown",
      "id": "4769c8e1-a906-4f5d-9b34-0ab30e613d81",
      "metadata": {
        "id": "4769c8e1-a906-4f5d-9b34-0ab30e613d81"
      },
      "source": [
        "## Download and explore dataset\n",
        "\n",
        "As we have been practicing in class, the questions that follow will require you to consider what output you will need before running the appropriate python codes.\n",
        "\n",
        "To ensure your code runs, please remember to load ```pandas``` and the ```Trans-Atlantic-Slave-Trade_Americas.csv``` file into the jupyter notebook environment.\n",
        "\n",
        "If you are running this on Google Colab, please make sure you connect your google drive with your Colab notebook first before attempting the exercise:\n",
        "```\n",
        "from google.colab import drive\n",
        "drive.mount('/content/drive')\n",
        "```"
      ]
    },
    {
      "cell_type": "code",
      "execution_count": 2,
      "id": "c79198e7-340c-4f70-bdb6-4bc50750a6f3",
      "metadata": {
        "id": "c79198e7-340c-4f70-bdb6-4bc50750a6f3",
        "colab": {
          "base_uri": "https://localhost:8080/"
        },
        "outputId": "6453248f-88bb-44be-8fb8-29439d8d8e95"
      },
      "outputs": [
        {
          "output_type": "stream",
          "name": "stdout",
          "text": [
            "Drive already mounted at /content/drive; to attempt to forcibly remount, call drive.mount(\"/content/drive\", force_remount=True).\n"
          ]
        }
      ],
      "source": [
        "from google.colab import drive\n",
        "drive.mount('/content/drive')"
      ]
    },
    {
      "cell_type": "markdown",
      "id": "1dd42939-8b33-40be-9633-877c4142dcdb",
      "metadata": {
        "id": "1dd42939-8b33-40be-9633-877c4142dcdb"
      },
      "source": [
        "### 2. How many rows of data does the dataset contain?</br>\n",
        "In this first step, you’ll load the dataset and examine its structure. Loading data is foundational in data science and digital humanities workflows. You’ll use the `pandas` library to read a CSV file and display its first few rows.</br>\n",
        "* **Hint**: See Melanie Walsh's chapter on Pandas Basics if you're stuck: [Pandas Basics – Part 1](https://melaniewalsh.github.io/Intro-Cultural-Analytics/03-Data-Analysis/01-Pandas-Basics-Part1.html)).\n",
        "\n"
      ]
    },
    {
      "cell_type": "code",
      "execution_count": 3,
      "id": "a3afd56e-4d46-4d01-be8b-a65380a1f681",
      "metadata": {
        "id": "a3afd56e-4d46-4d01-be8b-a65380a1f681",
        "colab": {
          "base_uri": "https://localhost:8080/",
          "height": 462
        },
        "outputId": "97122a07-1020-46bc-dfdb-bd69cb44eaff"
      },
      "outputs": [
        {
          "output_type": "execute_result",
          "data": {
            "text/plain": [
              "   year_of_arrival               flag   place_of_purchase  \\\n",
              "0             1520                NaN   Portuguese Guinea   \n",
              "1             1525  Portugal / Brazil            Sao Tome   \n",
              "2             1526    Spain / Uruguay  Cape Verde Islands   \n",
              "3             1526    Spain / Uruguay  Cape Verde Islands   \n",
              "4             1526                NaN  Cape Verde Islands   \n",
              "\n",
              "                 place_of_landing  percent_women  percent_children  \\\n",
              "0                        San Juan            NaN               NaN   \n",
              "1         Hispaniola, unspecified            NaN               NaN   \n",
              "2          Cuba, port unspecified            NaN               NaN   \n",
              "3          Cuba, port unspecified            NaN               NaN   \n",
              "4  Caribbean (colony unspecified)            NaN               NaN   \n",
              "\n",
              "   percent_men  total_embarked  total_disembarked resistance_label  \\\n",
              "0          NaN           324.0              259.0              NaN   \n",
              "1          NaN           359.0              287.0              NaN   \n",
              "2          NaN           359.0              287.0              NaN   \n",
              "3          NaN           359.0              287.0              NaN   \n",
              "4          NaN           359.0              287.0              NaN   \n",
              "\n",
              "         vessel_name       captain's_name  voyage_id  \\\n",
              "0                                     NaN      42987   \n",
              "1  S Maria de Bogoña       Monteiro, Pero      46473   \n",
              "2                     Carega, Esteban (?)      11297   \n",
              "3                     Carega, Esteban (?)      11298   \n",
              "4            S Anton        Leon, Juan de      42631   \n",
              "\n",
              "                                             sources  \n",
              "0  [u'AGI,Patronato 175, r.9<><p><em>AG!</em> (Se...  \n",
              "1  [u'ANTT,CC,Parte II, maco 131, doc 54<><i>Inst...  \n",
              "2  [u'Pike,60-1,172<>Pike, Ruth, <i>Enterprise</i...  \n",
              "3  [u'Pike,60-1,172<>Pike, Ruth, <i>Enterprise</i...  \n",
              "4  [u'Chaunus, 3: 162-63<><p>Chaunus, <em>xxxxxx<...  "
            ],
            "text/html": [
              "\n",
              "  <div id=\"df-be60b25c-871f-40c2-abdc-4d32d8e89888\" class=\"colab-df-container\">\n",
              "    <div>\n",
              "<style scoped>\n",
              "    .dataframe tbody tr th:only-of-type {\n",
              "        vertical-align: middle;\n",
              "    }\n",
              "\n",
              "    .dataframe tbody tr th {\n",
              "        vertical-align: top;\n",
              "    }\n",
              "\n",
              "    .dataframe thead th {\n",
              "        text-align: right;\n",
              "    }\n",
              "</style>\n",
              "<table border=\"1\" class=\"dataframe\">\n",
              "  <thead>\n",
              "    <tr style=\"text-align: right;\">\n",
              "      <th></th>\n",
              "      <th>year_of_arrival</th>\n",
              "      <th>flag</th>\n",
              "      <th>place_of_purchase</th>\n",
              "      <th>place_of_landing</th>\n",
              "      <th>percent_women</th>\n",
              "      <th>percent_children</th>\n",
              "      <th>percent_men</th>\n",
              "      <th>total_embarked</th>\n",
              "      <th>total_disembarked</th>\n",
              "      <th>resistance_label</th>\n",
              "      <th>vessel_name</th>\n",
              "      <th>captain's_name</th>\n",
              "      <th>voyage_id</th>\n",
              "      <th>sources</th>\n",
              "    </tr>\n",
              "  </thead>\n",
              "  <tbody>\n",
              "    <tr>\n",
              "      <th>0</th>\n",
              "      <td>1520</td>\n",
              "      <td>NaN</td>\n",
              "      <td>Portuguese Guinea</td>\n",
              "      <td>San Juan</td>\n",
              "      <td>NaN</td>\n",
              "      <td>NaN</td>\n",
              "      <td>NaN</td>\n",
              "      <td>324.0</td>\n",
              "      <td>259.0</td>\n",
              "      <td>NaN</td>\n",
              "      <td></td>\n",
              "      <td>NaN</td>\n",
              "      <td>42987</td>\n",
              "      <td>[u'AGI,Patronato 175, r.9&lt;&gt;&lt;p&gt;&lt;em&gt;AG!&lt;/em&gt; (Se...</td>\n",
              "    </tr>\n",
              "    <tr>\n",
              "      <th>1</th>\n",
              "      <td>1525</td>\n",
              "      <td>Portugal / Brazil</td>\n",
              "      <td>Sao Tome</td>\n",
              "      <td>Hispaniola, unspecified</td>\n",
              "      <td>NaN</td>\n",
              "      <td>NaN</td>\n",
              "      <td>NaN</td>\n",
              "      <td>359.0</td>\n",
              "      <td>287.0</td>\n",
              "      <td>NaN</td>\n",
              "      <td>S Maria de Bogoña</td>\n",
              "      <td>Monteiro, Pero</td>\n",
              "      <td>46473</td>\n",
              "      <td>[u'ANTT,CC,Parte II, maco 131, doc 54&lt;&gt;&lt;i&gt;Inst...</td>\n",
              "    </tr>\n",
              "    <tr>\n",
              "      <th>2</th>\n",
              "      <td>1526</td>\n",
              "      <td>Spain / Uruguay</td>\n",
              "      <td>Cape Verde Islands</td>\n",
              "      <td>Cuba, port unspecified</td>\n",
              "      <td>NaN</td>\n",
              "      <td>NaN</td>\n",
              "      <td>NaN</td>\n",
              "      <td>359.0</td>\n",
              "      <td>287.0</td>\n",
              "      <td>NaN</td>\n",
              "      <td></td>\n",
              "      <td>Carega, Esteban (?)</td>\n",
              "      <td>11297</td>\n",
              "      <td>[u'Pike,60-1,172&lt;&gt;Pike, Ruth, &lt;i&gt;Enterprise&lt;/i...</td>\n",
              "    </tr>\n",
              "    <tr>\n",
              "      <th>3</th>\n",
              "      <td>1526</td>\n",
              "      <td>Spain / Uruguay</td>\n",
              "      <td>Cape Verde Islands</td>\n",
              "      <td>Cuba, port unspecified</td>\n",
              "      <td>NaN</td>\n",
              "      <td>NaN</td>\n",
              "      <td>NaN</td>\n",
              "      <td>359.0</td>\n",
              "      <td>287.0</td>\n",
              "      <td>NaN</td>\n",
              "      <td></td>\n",
              "      <td>Carega, Esteban (?)</td>\n",
              "      <td>11298</td>\n",
              "      <td>[u'Pike,60-1,172&lt;&gt;Pike, Ruth, &lt;i&gt;Enterprise&lt;/i...</td>\n",
              "    </tr>\n",
              "    <tr>\n",
              "      <th>4</th>\n",
              "      <td>1526</td>\n",
              "      <td>NaN</td>\n",
              "      <td>Cape Verde Islands</td>\n",
              "      <td>Caribbean (colony unspecified)</td>\n",
              "      <td>NaN</td>\n",
              "      <td>NaN</td>\n",
              "      <td>NaN</td>\n",
              "      <td>359.0</td>\n",
              "      <td>287.0</td>\n",
              "      <td>NaN</td>\n",
              "      <td>S Anton</td>\n",
              "      <td>Leon, Juan de</td>\n",
              "      <td>42631</td>\n",
              "      <td>[u'Chaunus, 3: 162-63&lt;&gt;&lt;p&gt;Chaunus, &lt;em&gt;xxxxxx&lt;...</td>\n",
              "    </tr>\n",
              "  </tbody>\n",
              "</table>\n",
              "</div>\n",
              "    <div class=\"colab-df-buttons\">\n",
              "\n",
              "  <div class=\"colab-df-container\">\n",
              "    <button class=\"colab-df-convert\" onclick=\"convertToInteractive('df-be60b25c-871f-40c2-abdc-4d32d8e89888')\"\n",
              "            title=\"Convert this dataframe to an interactive table.\"\n",
              "            style=\"display:none;\">\n",
              "\n",
              "  <svg xmlns=\"http://www.w3.org/2000/svg\" height=\"24px\" viewBox=\"0 -960 960 960\">\n",
              "    <path d=\"M120-120v-720h720v720H120Zm60-500h600v-160H180v160Zm220 220h160v-160H400v160Zm0 220h160v-160H400v160ZM180-400h160v-160H180v160Zm440 0h160v-160H620v160ZM180-180h160v-160H180v160Zm440 0h160v-160H620v160Z\"/>\n",
              "  </svg>\n",
              "    </button>\n",
              "\n",
              "  <style>\n",
              "    .colab-df-container {\n",
              "      display:flex;\n",
              "      gap: 12px;\n",
              "    }\n",
              "\n",
              "    .colab-df-convert {\n",
              "      background-color: #E8F0FE;\n",
              "      border: none;\n",
              "      border-radius: 50%;\n",
              "      cursor: pointer;\n",
              "      display: none;\n",
              "      fill: #1967D2;\n",
              "      height: 32px;\n",
              "      padding: 0 0 0 0;\n",
              "      width: 32px;\n",
              "    }\n",
              "\n",
              "    .colab-df-convert:hover {\n",
              "      background-color: #E2EBFA;\n",
              "      box-shadow: 0px 1px 2px rgba(60, 64, 67, 0.3), 0px 1px 3px 1px rgba(60, 64, 67, 0.15);\n",
              "      fill: #174EA6;\n",
              "    }\n",
              "\n",
              "    .colab-df-buttons div {\n",
              "      margin-bottom: 4px;\n",
              "    }\n",
              "\n",
              "    [theme=dark] .colab-df-convert {\n",
              "      background-color: #3B4455;\n",
              "      fill: #D2E3FC;\n",
              "    }\n",
              "\n",
              "    [theme=dark] .colab-df-convert:hover {\n",
              "      background-color: #434B5C;\n",
              "      box-shadow: 0px 1px 3px 1px rgba(0, 0, 0, 0.15);\n",
              "      filter: drop-shadow(0px 1px 2px rgba(0, 0, 0, 0.3));\n",
              "      fill: #FFFFFF;\n",
              "    }\n",
              "  </style>\n",
              "\n",
              "    <script>\n",
              "      const buttonEl =\n",
              "        document.querySelector('#df-be60b25c-871f-40c2-abdc-4d32d8e89888 button.colab-df-convert');\n",
              "      buttonEl.style.display =\n",
              "        google.colab.kernel.accessAllowed ? 'block' : 'none';\n",
              "\n",
              "      async function convertToInteractive(key) {\n",
              "        const element = document.querySelector('#df-be60b25c-871f-40c2-abdc-4d32d8e89888');\n",
              "        const dataTable =\n",
              "          await google.colab.kernel.invokeFunction('convertToInteractive',\n",
              "                                                    [key], {});\n",
              "        if (!dataTable) return;\n",
              "\n",
              "        const docLinkHtml = 'Like what you see? Visit the ' +\n",
              "          '<a target=\"_blank\" href=https://colab.research.google.com/notebooks/data_table.ipynb>data table notebook</a>'\n",
              "          + ' to learn more about interactive tables.';\n",
              "        element.innerHTML = '';\n",
              "        dataTable['output_type'] = 'display_data';\n",
              "        await google.colab.output.renderOutput(dataTable, element);\n",
              "        const docLink = document.createElement('div');\n",
              "        docLink.innerHTML = docLinkHtml;\n",
              "        element.appendChild(docLink);\n",
              "      }\n",
              "    </script>\n",
              "  </div>\n",
              "\n",
              "\n",
              "<div id=\"df-ff96f155-7d03-4dd2-aae0-f104db2794bc\">\n",
              "  <button class=\"colab-df-quickchart\" onclick=\"quickchart('df-ff96f155-7d03-4dd2-aae0-f104db2794bc')\"\n",
              "            title=\"Suggest charts\"\n",
              "            style=\"display:none;\">\n",
              "\n",
              "<svg xmlns=\"http://www.w3.org/2000/svg\" height=\"24px\"viewBox=\"0 0 24 24\"\n",
              "     width=\"24px\">\n",
              "    <g>\n",
              "        <path d=\"M19 3H5c-1.1 0-2 .9-2 2v14c0 1.1.9 2 2 2h14c1.1 0 2-.9 2-2V5c0-1.1-.9-2-2-2zM9 17H7v-7h2v7zm4 0h-2V7h2v10zm4 0h-2v-4h2v4z\"/>\n",
              "    </g>\n",
              "</svg>\n",
              "  </button>\n",
              "\n",
              "<style>\n",
              "  .colab-df-quickchart {\n",
              "      --bg-color: #E8F0FE;\n",
              "      --fill-color: #1967D2;\n",
              "      --hover-bg-color: #E2EBFA;\n",
              "      --hover-fill-color: #174EA6;\n",
              "      --disabled-fill-color: #AAA;\n",
              "      --disabled-bg-color: #DDD;\n",
              "  }\n",
              "\n",
              "  [theme=dark] .colab-df-quickchart {\n",
              "      --bg-color: #3B4455;\n",
              "      --fill-color: #D2E3FC;\n",
              "      --hover-bg-color: #434B5C;\n",
              "      --hover-fill-color: #FFFFFF;\n",
              "      --disabled-bg-color: #3B4455;\n",
              "      --disabled-fill-color: #666;\n",
              "  }\n",
              "\n",
              "  .colab-df-quickchart {\n",
              "    background-color: var(--bg-color);\n",
              "    border: none;\n",
              "    border-radius: 50%;\n",
              "    cursor: pointer;\n",
              "    display: none;\n",
              "    fill: var(--fill-color);\n",
              "    height: 32px;\n",
              "    padding: 0;\n",
              "    width: 32px;\n",
              "  }\n",
              "\n",
              "  .colab-df-quickchart:hover {\n",
              "    background-color: var(--hover-bg-color);\n",
              "    box-shadow: 0 1px 2px rgba(60, 64, 67, 0.3), 0 1px 3px 1px rgba(60, 64, 67, 0.15);\n",
              "    fill: var(--button-hover-fill-color);\n",
              "  }\n",
              "\n",
              "  .colab-df-quickchart-complete:disabled,\n",
              "  .colab-df-quickchart-complete:disabled:hover {\n",
              "    background-color: var(--disabled-bg-color);\n",
              "    fill: var(--disabled-fill-color);\n",
              "    box-shadow: none;\n",
              "  }\n",
              "\n",
              "  .colab-df-spinner {\n",
              "    border: 2px solid var(--fill-color);\n",
              "    border-color: transparent;\n",
              "    border-bottom-color: var(--fill-color);\n",
              "    animation:\n",
              "      spin 1s steps(1) infinite;\n",
              "  }\n",
              "\n",
              "  @keyframes spin {\n",
              "    0% {\n",
              "      border-color: transparent;\n",
              "      border-bottom-color: var(--fill-color);\n",
              "      border-left-color: var(--fill-color);\n",
              "    }\n",
              "    20% {\n",
              "      border-color: transparent;\n",
              "      border-left-color: var(--fill-color);\n",
              "      border-top-color: var(--fill-color);\n",
              "    }\n",
              "    30% {\n",
              "      border-color: transparent;\n",
              "      border-left-color: var(--fill-color);\n",
              "      border-top-color: var(--fill-color);\n",
              "      border-right-color: var(--fill-color);\n",
              "    }\n",
              "    40% {\n",
              "      border-color: transparent;\n",
              "      border-right-color: var(--fill-color);\n",
              "      border-top-color: var(--fill-color);\n",
              "    }\n",
              "    60% {\n",
              "      border-color: transparent;\n",
              "      border-right-color: var(--fill-color);\n",
              "    }\n",
              "    80% {\n",
              "      border-color: transparent;\n",
              "      border-right-color: var(--fill-color);\n",
              "      border-bottom-color: var(--fill-color);\n",
              "    }\n",
              "    90% {\n",
              "      border-color: transparent;\n",
              "      border-bottom-color: var(--fill-color);\n",
              "    }\n",
              "  }\n",
              "</style>\n",
              "\n",
              "  <script>\n",
              "    async function quickchart(key) {\n",
              "      const quickchartButtonEl =\n",
              "        document.querySelector('#' + key + ' button');\n",
              "      quickchartButtonEl.disabled = true;  // To prevent multiple clicks.\n",
              "      quickchartButtonEl.classList.add('colab-df-spinner');\n",
              "      try {\n",
              "        const charts = await google.colab.kernel.invokeFunction(\n",
              "            'suggestCharts', [key], {});\n",
              "      } catch (error) {\n",
              "        console.error('Error during call to suggestCharts:', error);\n",
              "      }\n",
              "      quickchartButtonEl.classList.remove('colab-df-spinner');\n",
              "      quickchartButtonEl.classList.add('colab-df-quickchart-complete');\n",
              "    }\n",
              "    (() => {\n",
              "      let quickchartButtonEl =\n",
              "        document.querySelector('#df-ff96f155-7d03-4dd2-aae0-f104db2794bc button');\n",
              "      quickchartButtonEl.style.display =\n",
              "        google.colab.kernel.accessAllowed ? 'block' : 'none';\n",
              "    })();\n",
              "  </script>\n",
              "</div>\n",
              "\n",
              "    </div>\n",
              "  </div>\n"
            ],
            "application/vnd.google.colaboratory.intrinsic+json": {
              "type": "dataframe",
              "variable_name": "trans_atlantic_slave_trade_df",
              "summary": "{\n  \"name\": \"trans_atlantic_slave_trade_df\",\n  \"rows\": 20779,\n  \"fields\": [\n    {\n      \"column\": \"year_of_arrival\",\n      \"properties\": {\n        \"dtype\": \"number\",\n        \"std\": 59,\n        \"min\": 1520,\n        \"max\": 1866,\n        \"num_unique_values\": 330,\n        \"samples\": [\n          1542,\n          1701,\n          1676\n        ],\n        \"semantic_type\": \"\",\n        \"description\": \"\"\n      }\n    },\n    {\n      \"column\": \"flag\",\n      \"properties\": {\n        \"dtype\": \"category\",\n        \"num_unique_values\": 8,\n        \"samples\": [\n          \"Spain / Uruguay\",\n          \"U.S.A.\",\n          \"Portugal / Brazil\"\n        ],\n        \"semantic_type\": \"\",\n        \"description\": \"\"\n      }\n    },\n    {\n      \"column\": \"place_of_purchase\",\n      \"properties\": {\n        \"dtype\": \"category\",\n        \"num_unique_values\": 156,\n        \"samples\": [\n          \"Ambriz\",\n          \"Cess\",\n          \"Galam\"\n        ],\n        \"semantic_type\": \"\",\n        \"description\": \"\"\n      }\n    },\n    {\n      \"column\": \"place_of_landing\",\n      \"properties\": {\n        \"dtype\": \"category\",\n        \"num_unique_values\": 187,\n        \"samples\": [\n          \"Mobile\",\n          \"Annapolis\",\n          \"Suriname\"\n        ],\n        \"semantic_type\": \"\",\n        \"description\": \"\"\n      }\n    },\n    {\n      \"column\": \"percent_women\",\n      \"properties\": {\n        \"dtype\": \"number\",\n        \"std\": 0.11716450656039482,\n        \"min\": 0.0,\n        \"max\": 1.0,\n        \"num_unique_values\": 2366,\n        \"samples\": [\n          0.20127,\n          0.26378,\n          0.17472\n        ],\n        \"semantic_type\": \"\",\n        \"description\": \"\"\n      }\n    },\n    {\n      \"column\": \"percent_children\",\n      \"properties\": {\n        \"dtype\": \"number\",\n        \"std\": 0.1498272501841525,\n        \"min\": 0.0,\n        \"max\": 1.0,\n        \"num_unique_values\": 2396,\n        \"samples\": [\n          0.64384,\n          0.11486,\n          0.21121\n        ],\n        \"semantic_type\": \"\",\n        \"description\": \"\"\n      }\n    },\n    {\n      \"column\": \"percent_men\",\n      \"properties\": {\n        \"dtype\": \"number\",\n        \"std\": 0.14175803833951098,\n        \"min\": 0.0,\n        \"max\": 1.0,\n        \"num_unique_values\": 2469,\n        \"samples\": [\n          0.98361,\n          0.60488,\n          0.51092\n        ],\n        \"semantic_type\": \"\",\n        \"description\": \"\"\n      }\n    },\n    {\n      \"column\": \"total_embarked\",\n      \"properties\": {\n        \"dtype\": \"number\",\n        \"std\": 148.0149976962869,\n        \"min\": 1.0,\n        \"max\": 2024.0,\n        \"num_unique_values\": 842,\n        \"samples\": [\n          568.0,\n          379.0,\n          554.0\n        ],\n        \"semantic_type\": \"\",\n        \"description\": \"\"\n      }\n    },\n    {\n      \"column\": \"total_disembarked\",\n      \"properties\": {\n        \"dtype\": \"number\",\n        \"std\": 128.06969090782025,\n        \"min\": 1.0,\n        \"max\": 1700.0,\n        \"num_unique_values\": 725,\n        \"samples\": [\n          10.0,\n          539.0,\n          412.0\n        ],\n        \"semantic_type\": \"\",\n        \"description\": \"\"\n      }\n    },\n    {\n      \"column\": \"resistance_label\",\n      \"properties\": {\n        \"dtype\": \"category\",\n        \"num_unique_values\": 6,\n        \"samples\": [\n          \"Slave insurrection\",\n          \"Three or more slaves jumping overboard, missing, or escaped\",\n          \"Cut-off (meaning unclear)\"\n        ],\n        \"semantic_type\": \"\",\n        \"description\": \"\"\n      }\n    },\n    {\n      \"column\": \"vessel_name\",\n      \"properties\": {\n        \"dtype\": \"category\",\n        \"num_unique_values\": 5849,\n        \"samples\": [\n          \"Bridgewater\",\n          \"Lamb Frigate\",\n          \"Joseph and Elizabeth\"\n        ],\n        \"semantic_type\": \"\",\n        \"description\": \"\"\n      }\n    },\n    {\n      \"column\": \"captain's_name\",\n      \"properties\": {\n        \"dtype\": \"string\",\n        \"num_unique_values\": 12233,\n        \"samples\": [\n          \"Hayston, Henry\",\n          \"Jones, David\",\n          \"Lawton, Geo (Jr)\"\n        ],\n        \"semantic_type\": \"\",\n        \"description\": \"\"\n      }\n    },\n    {\n      \"column\": \"voyage_id\",\n      \"properties\": {\n        \"dtype\": \"number\",\n        \"std\": 32388,\n        \"min\": 112,\n        \"max\": 900206,\n        \"num_unique_values\": 20741,\n        \"samples\": [\n          25373,\n          29007,\n          80255\n        ],\n        \"semantic_type\": \"\",\n        \"description\": \"\"\n      }\n    },\n    {\n      \"column\": \"sources\",\n      \"properties\": {\n        \"dtype\": \"string\",\n        \"num_unique_values\": 13754,\n        \"samples\": [\n          \"[u'T70/76,17<><p><em>BNA</em> (Kew), Treasury</p>', u'T70/1222,52<><p><em>BNA</em> (Kew), Treasury</p>', u'T70/936<><p><em>BNA</em> (Kew), Treasury</p>', u'CO1/31,32<><p><em>BNA</em> (Kew)</p>']\",\n          \"[u'CO28/30,130<><p><em>BNA</em> (Kew)</p>']\",\n          \"[u'Richardson,III<><p>Richardson, David, <em>Bristol</em><em>, Africa and the Eighteenth Century Slave Trade to America</em>: Volume 1, <em>The Years of Expansion, 1698-1729</em> (Bristol, 1986); Volume 2, <em>The Years of Ascendancy, 1730-1745</em> (Bristol, 1987); Volume 3, <em>The Years of Decline, 1746-1769</em> (Bristol, 1991); Volume 4, <em>The Final Years, 1770-1807</em> (Bristol, 1997)</p>', u'LList, 10 Nov 1761<><i>Lloyds\\\\u2019 Lists (1741, 1744, 1747-53, 1755, 1757-58, 1760-77, 1779-1808)</i>', u'Lambert,73,386<>Lambert, Sheila (ed.), <i>House of Commons Sessional Papers of the Eighteenth Century</i>, 145 vols. (Wilmington, DE, 1975).']\"\n        ],\n        \"semantic_type\": \"\",\n        \"description\": \"\"\n      }\n    }\n  ]\n}"
            }
          },
          "metadata": {},
          "execution_count": 3
        }
      ],
      "source": [
        "import pandas as pd\n",
        "trans_atlantic_slave_trade_df = pd.read_csv('/content/drive/MyDrive/Untitled folder/Trans-Atlantic-Slave-Trade_Americas.csv')\n",
        "trans_atlantic_slave_trade_df.head()"
      ]
    },
    {
      "cell_type": "markdown",
      "id": "91143422-e360-4be0-8bae-afd42d835260",
      "metadata": {
        "id": "91143422-e360-4be0-8bae-afd42d835260"
      },
      "source": [
        "**Double click to edit cell**     \n",
        "\n",
        "</br>\n",
        "</br>\n",
        "</br>\n",
        "\n",
        "---\n"
      ]
    },
    {
      "cell_type": "markdown",
      "id": "141f7b97-6853-4382-9bca-12be87c446b3",
      "metadata": {
        "id": "141f7b97-6853-4382-9bca-12be87c446b3"
      },
      "source": [
        "### 3. Are the data types for each column appropriate? Please explain how they are/not approrpiate for your analysis."
      ]
    },
    {
      "cell_type": "markdown",
      "id": "bab74918-52ee-4c6d-80da-b7370081e52d",
      "metadata": {
        "id": "bab74918-52ee-4c6d-80da-b7370081e52d"
      },
      "source": [
        "**Double click to edit cell**     \n",
        "I think that the data types for each column is appropiate because it tells you what the colum might contain and it rightly contains that info.\n",
        "</br>\n",
        "</br>\n",
        "</br>\n",
        "\n",
        "---\n"
      ]
    },
    {
      "cell_type": "markdown",
      "id": "37658740-c9ca-465f-a3d0-a33da65ecb91",
      "metadata": {
        "id": "37658740-c9ca-465f-a3d0-a33da65ecb91"
      },
      "source": [
        "### 4. What is the overall average proportion of ```percent_women```, ```percent_children```, ```percent_men```?"
      ]
    },
    {
      "cell_type": "code",
      "execution_count": 4,
      "id": "a3b3b700-8339-49c2-9ca1-f35858f86e7e",
      "metadata": {
        "id": "a3b3b700-8339-49c2-9ca1-f35858f86e7e",
        "colab": {
          "base_uri": "https://localhost:8080/",
          "height": 176
        },
        "outputId": "fda19055-1c74-492d-b425-0191509d7733"
      },
      "outputs": [
        {
          "output_type": "execute_result",
          "data": {
            "text/plain": [
              "percent_women       0.274098\n",
              "percent_children    0.231531\n",
              "percent_men         0.497050\n",
              "dtype: float64"
            ],
            "text/html": [
              "<div>\n",
              "<style scoped>\n",
              "    .dataframe tbody tr th:only-of-type {\n",
              "        vertical-align: middle;\n",
              "    }\n",
              "\n",
              "    .dataframe tbody tr th {\n",
              "        vertical-align: top;\n",
              "    }\n",
              "\n",
              "    .dataframe thead th {\n",
              "        text-align: right;\n",
              "    }\n",
              "</style>\n",
              "<table border=\"1\" class=\"dataframe\">\n",
              "  <thead>\n",
              "    <tr style=\"text-align: right;\">\n",
              "      <th></th>\n",
              "      <th>0</th>\n",
              "    </tr>\n",
              "  </thead>\n",
              "  <tbody>\n",
              "    <tr>\n",
              "      <th>percent_women</th>\n",
              "      <td>0.274098</td>\n",
              "    </tr>\n",
              "    <tr>\n",
              "      <th>percent_children</th>\n",
              "      <td>0.231531</td>\n",
              "    </tr>\n",
              "    <tr>\n",
              "      <th>percent_men</th>\n",
              "      <td>0.497050</td>\n",
              "    </tr>\n",
              "  </tbody>\n",
              "</table>\n",
              "</div><br><label><b>dtype:</b> float64</label>"
            ]
          },
          "metadata": {},
          "execution_count": 4
        }
      ],
      "source": [
        "trans_atlantic_slave_trade_df[['percent_women', 'percent_children', 'percent_men']].mean()"
      ]
    },
    {
      "cell_type": "markdown",
      "id": "b4e966c1-1247-4cbc-9a74-0553469d9beb",
      "metadata": {
        "id": "b4e966c1-1247-4cbc-9a74-0553469d9beb"
      },
      "source": [
        "**Double click to edit cell**     \n",
        "The overall average proportion for percent_women it is .27, for percent_men it is .23, and for percent_children it is .49 (.5 rounded up).\n",
        "</br>\n",
        "</br>\n",
        "</br>\n",
        "\n",
        "\n",
        "---\n"
      ]
    },
    {
      "cell_type": "markdown",
      "id": "8b2269c7-c46c-44bb-8333-1d8ba9022a61",
      "metadata": {
        "id": "8b2269c7-c46c-44bb-8333-1d8ba9022a61"
      },
      "source": [
        "### 5. How many of the column values for ```percent_women```, ```percent_children```, ```percent_men``` are left blank? Suggest 1 reason why majority of the values in these columns are blank."
      ]
    },
    {
      "cell_type": "code",
      "execution_count": 5,
      "id": "a224a0e4-0e56-40f9-aa41-094882deb499",
      "metadata": {
        "id": "a224a0e4-0e56-40f9-aa41-094882deb499",
        "colab": {
          "base_uri": "https://localhost:8080/",
          "height": 238
        },
        "outputId": "d0999ff4-35e0-4878-c447-bb38048f199b"
      },
      "outputs": [
        {
          "output_type": "execute_result",
          "data": {
            "text/plain": [
              "percent_women  percent_children  percent_men\n",
              "True           True              True           17828\n",
              "False          False             False           2907\n",
              "True           False             True              41\n",
              "False          True              False              3\n",
              "Name: count, dtype: int64"
            ],
            "text/html": [
              "<div>\n",
              "<style scoped>\n",
              "    .dataframe tbody tr th:only-of-type {\n",
              "        vertical-align: middle;\n",
              "    }\n",
              "\n",
              "    .dataframe tbody tr th {\n",
              "        vertical-align: top;\n",
              "    }\n",
              "\n",
              "    .dataframe thead th {\n",
              "        text-align: right;\n",
              "    }\n",
              "</style>\n",
              "<table border=\"1\" class=\"dataframe\">\n",
              "  <thead>\n",
              "    <tr style=\"text-align: right;\">\n",
              "      <th></th>\n",
              "      <th></th>\n",
              "      <th></th>\n",
              "      <th>count</th>\n",
              "    </tr>\n",
              "    <tr>\n",
              "      <th>percent_women</th>\n",
              "      <th>percent_children</th>\n",
              "      <th>percent_men</th>\n",
              "      <th></th>\n",
              "    </tr>\n",
              "  </thead>\n",
              "  <tbody>\n",
              "    <tr>\n",
              "      <th>True</th>\n",
              "      <th>True</th>\n",
              "      <th>True</th>\n",
              "      <td>17828</td>\n",
              "    </tr>\n",
              "    <tr>\n",
              "      <th>False</th>\n",
              "      <th>False</th>\n",
              "      <th>False</th>\n",
              "      <td>2907</td>\n",
              "    </tr>\n",
              "    <tr>\n",
              "      <th>True</th>\n",
              "      <th>False</th>\n",
              "      <th>True</th>\n",
              "      <td>41</td>\n",
              "    </tr>\n",
              "    <tr>\n",
              "      <th>False</th>\n",
              "      <th>True</th>\n",
              "      <th>False</th>\n",
              "      <td>3</td>\n",
              "    </tr>\n",
              "  </tbody>\n",
              "</table>\n",
              "</div><br><label><b>dtype:</b> int64</label>"
            ]
          },
          "metadata": {},
          "execution_count": 5
        }
      ],
      "source": [
        "trans_atlantic_slave_trade_df[['percent_women', 'percent_children', 'percent_men']].isna().value_counts()"
      ]
    },
    {
      "cell_type": "markdown",
      "id": "23d4de2a-aa0d-4165-bac4-1b53a8ee2030",
      "metadata": {
        "id": "23d4de2a-aa0d-4165-bac4-1b53a8ee2030"
      },
      "source": [
        "**Double click to edit cell**     \n",
        "The amount of columns left blank for percent_women, percent_children, and percent_men is 17,828 columns.\n",
        "</br>\n",
        "</br>\n",
        "</br>\n",
        "\n",
        "---\n"
      ]
    },
    {
      "cell_type": "markdown",
      "id": "43584358-9a8f-45a5-8383-5bf823d8c9be",
      "metadata": {
        "id": "43584358-9a8f-45a5-8383-5bf823d8c9be"
      },
      "source": [
        "### 6. Display all duplicated rows and remove the duplicates. Check that the duplicates were successfully removed. Please also suggest a reason why we would remove duplicates for our analysis.\n",
        "\n",
        "**Level-up**: How many duplicated rows do we have? Recall the methods we have used to help us count things."
      ]
    },
    {
      "cell_type": "code",
      "execution_count": 6,
      "id": "6fffb099-3bb0-47d9-a75b-d5255d89ab7a",
      "metadata": {
        "id": "6fffb099-3bb0-47d9-a75b-d5255d89ab7a",
        "colab": {
          "base_uri": "https://localhost:8080/",
          "height": 73
        },
        "outputId": "8b9b8823-a1a0-4119-b9e7-ff800dfed36e"
      },
      "outputs": [
        {
          "output_type": "execute_result",
          "data": {
            "text/plain": [
              "Empty DataFrame\n",
              "Columns: [year_of_arrival, flag, place_of_purchase, place_of_landing, percent_women, percent_children, percent_men, total_embarked, total_disembarked, resistance_label, vessel_name, captain's_name, voyage_id, sources]\n",
              "Index: []"
            ],
            "text/html": [
              "\n",
              "  <div id=\"df-d0180159-f903-42bf-8f81-676e9d6f1eae\" class=\"colab-df-container\">\n",
              "    <div>\n",
              "<style scoped>\n",
              "    .dataframe tbody tr th:only-of-type {\n",
              "        vertical-align: middle;\n",
              "    }\n",
              "\n",
              "    .dataframe tbody tr th {\n",
              "        vertical-align: top;\n",
              "    }\n",
              "\n",
              "    .dataframe thead th {\n",
              "        text-align: right;\n",
              "    }\n",
              "</style>\n",
              "<table border=\"1\" class=\"dataframe\">\n",
              "  <thead>\n",
              "    <tr style=\"text-align: right;\">\n",
              "      <th></th>\n",
              "      <th>year_of_arrival</th>\n",
              "      <th>flag</th>\n",
              "      <th>place_of_purchase</th>\n",
              "      <th>place_of_landing</th>\n",
              "      <th>percent_women</th>\n",
              "      <th>percent_children</th>\n",
              "      <th>percent_men</th>\n",
              "      <th>total_embarked</th>\n",
              "      <th>total_disembarked</th>\n",
              "      <th>resistance_label</th>\n",
              "      <th>vessel_name</th>\n",
              "      <th>captain's_name</th>\n",
              "      <th>voyage_id</th>\n",
              "      <th>sources</th>\n",
              "    </tr>\n",
              "  </thead>\n",
              "  <tbody>\n",
              "  </tbody>\n",
              "</table>\n",
              "</div>\n",
              "    <div class=\"colab-df-buttons\">\n",
              "\n",
              "  <div class=\"colab-df-container\">\n",
              "    <button class=\"colab-df-convert\" onclick=\"convertToInteractive('df-d0180159-f903-42bf-8f81-676e9d6f1eae')\"\n",
              "            title=\"Convert this dataframe to an interactive table.\"\n",
              "            style=\"display:none;\">\n",
              "\n",
              "  <svg xmlns=\"http://www.w3.org/2000/svg\" height=\"24px\" viewBox=\"0 -960 960 960\">\n",
              "    <path d=\"M120-120v-720h720v720H120Zm60-500h600v-160H180v160Zm220 220h160v-160H400v160Zm0 220h160v-160H400v160ZM180-400h160v-160H180v160Zm440 0h160v-160H620v160ZM180-180h160v-160H180v160Zm440 0h160v-160H620v160Z\"/>\n",
              "  </svg>\n",
              "    </button>\n",
              "\n",
              "  <style>\n",
              "    .colab-df-container {\n",
              "      display:flex;\n",
              "      gap: 12px;\n",
              "    }\n",
              "\n",
              "    .colab-df-convert {\n",
              "      background-color: #E8F0FE;\n",
              "      border: none;\n",
              "      border-radius: 50%;\n",
              "      cursor: pointer;\n",
              "      display: none;\n",
              "      fill: #1967D2;\n",
              "      height: 32px;\n",
              "      padding: 0 0 0 0;\n",
              "      width: 32px;\n",
              "    }\n",
              "\n",
              "    .colab-df-convert:hover {\n",
              "      background-color: #E2EBFA;\n",
              "      box-shadow: 0px 1px 2px rgba(60, 64, 67, 0.3), 0px 1px 3px 1px rgba(60, 64, 67, 0.15);\n",
              "      fill: #174EA6;\n",
              "    }\n",
              "\n",
              "    .colab-df-buttons div {\n",
              "      margin-bottom: 4px;\n",
              "    }\n",
              "\n",
              "    [theme=dark] .colab-df-convert {\n",
              "      background-color: #3B4455;\n",
              "      fill: #D2E3FC;\n",
              "    }\n",
              "\n",
              "    [theme=dark] .colab-df-convert:hover {\n",
              "      background-color: #434B5C;\n",
              "      box-shadow: 0px 1px 3px 1px rgba(0, 0, 0, 0.15);\n",
              "      filter: drop-shadow(0px 1px 2px rgba(0, 0, 0, 0.3));\n",
              "      fill: #FFFFFF;\n",
              "    }\n",
              "  </style>\n",
              "\n",
              "    <script>\n",
              "      const buttonEl =\n",
              "        document.querySelector('#df-d0180159-f903-42bf-8f81-676e9d6f1eae button.colab-df-convert');\n",
              "      buttonEl.style.display =\n",
              "        google.colab.kernel.accessAllowed ? 'block' : 'none';\n",
              "\n",
              "      async function convertToInteractive(key) {\n",
              "        const element = document.querySelector('#df-d0180159-f903-42bf-8f81-676e9d6f1eae');\n",
              "        const dataTable =\n",
              "          await google.colab.kernel.invokeFunction('convertToInteractive',\n",
              "                                                    [key], {});\n",
              "        if (!dataTable) return;\n",
              "\n",
              "        const docLinkHtml = 'Like what you see? Visit the ' +\n",
              "          '<a target=\"_blank\" href=https://colab.research.google.com/notebooks/data_table.ipynb>data table notebook</a>'\n",
              "          + ' to learn more about interactive tables.';\n",
              "        element.innerHTML = '';\n",
              "        dataTable['output_type'] = 'display_data';\n",
              "        await google.colab.output.renderOutput(dataTable, element);\n",
              "        const docLink = document.createElement('div');\n",
              "        docLink.innerHTML = docLinkHtml;\n",
              "        element.appendChild(docLink);\n",
              "      }\n",
              "    </script>\n",
              "  </div>\n",
              "\n",
              "\n",
              "    </div>\n",
              "  </div>\n"
            ],
            "application/vnd.google.colaboratory.intrinsic+json": {
              "type": "dataframe",
              "repr_error": "Out of range float values are not JSON compliant: nan"
            }
          },
          "metadata": {},
          "execution_count": 6
        }
      ],
      "source": [
        "trans_atlantic_slave_trade_df.duplicated(keep=False).value_counts()\n",
        "trans_atlantic_slave_trade_df[trans_atlantic_slave_trade_df.duplicated(keep=False)]\n",
        "trans_atlantic_slave_trade_df=trans_atlantic_slave_trade_df.drop_duplicates(keep='first')\n",
        "trans_atlantic_slave_trade_df[trans_atlantic_slave_trade_df.duplicated(keep=False)]"
      ]
    },
    {
      "cell_type": "markdown",
      "id": "301e9714-6ce7-44cf-8bef-d497b30f511d",
      "metadata": {
        "id": "301e9714-6ce7-44cf-8bef-d497b30f511d"
      },
      "source": [
        "**Double click to edit cell**     \n",
        "You would remove duplicates frm analysis because you don't want to account for something twice because that can chnage the trajectory of the data and data analysis itself. There are 20,741 rows that are exact duplicates.\n",
        "</br>\n",
        "</br>\n",
        "</br>\n",
        "\n",
        "\n",
        "---\n"
      ]
    },
    {
      "cell_type": "markdown",
      "id": "7ff8bfcd-4573-43a4-b58c-fb6d48516720",
      "metadata": {
        "id": "7ff8bfcd-4573-43a4-b58c-fb6d48516720"
      },
      "source": [
        "### 7. Please identify the **top 5 most common ports of arrival**.\n",
        "\n",
        "**Hint:** Check the columns ```place_of_landing```."
      ]
    },
    {
      "cell_type": "code",
      "execution_count": 9,
      "id": "56a1e1aa-7fb3-497c-8055-bd1a5deca2f7",
      "metadata": {
        "id": "56a1e1aa-7fb3-497c-8055-bd1a5deca2f7",
        "colab": {
          "base_uri": "https://localhost:8080/",
          "height": 269
        },
        "outputId": "0b1294f4-cd3c-4c11-a5a0-b85918ddb53a"
      },
      "outputs": [
        {
          "output_type": "execute_result",
          "data": {
            "text/plain": [
              "place_of_landing\n",
              "Barbados, port unspecified    2038\n",
              "Jamaica, port unspecified     1715\n",
              "Kingston                      1622\n",
              "Havana                        1321\n",
              "Cap Francais                  1127\n",
              "Name: count, dtype: int64"
            ],
            "text/html": [
              "<div>\n",
              "<style scoped>\n",
              "    .dataframe tbody tr th:only-of-type {\n",
              "        vertical-align: middle;\n",
              "    }\n",
              "\n",
              "    .dataframe tbody tr th {\n",
              "        vertical-align: top;\n",
              "    }\n",
              "\n",
              "    .dataframe thead th {\n",
              "        text-align: right;\n",
              "    }\n",
              "</style>\n",
              "<table border=\"1\" class=\"dataframe\">\n",
              "  <thead>\n",
              "    <tr style=\"text-align: right;\">\n",
              "      <th></th>\n",
              "      <th>count</th>\n",
              "    </tr>\n",
              "    <tr>\n",
              "      <th>place_of_landing</th>\n",
              "      <th></th>\n",
              "    </tr>\n",
              "  </thead>\n",
              "  <tbody>\n",
              "    <tr>\n",
              "      <th>Barbados, port unspecified</th>\n",
              "      <td>2038</td>\n",
              "    </tr>\n",
              "    <tr>\n",
              "      <th>Jamaica, port unspecified</th>\n",
              "      <td>1715</td>\n",
              "    </tr>\n",
              "    <tr>\n",
              "      <th>Kingston</th>\n",
              "      <td>1622</td>\n",
              "    </tr>\n",
              "    <tr>\n",
              "      <th>Havana</th>\n",
              "      <td>1321</td>\n",
              "    </tr>\n",
              "    <tr>\n",
              "      <th>Cap Francais</th>\n",
              "      <td>1127</td>\n",
              "    </tr>\n",
              "  </tbody>\n",
              "</table>\n",
              "</div><br><label><b>dtype:</b> int64</label>"
            ]
          },
          "metadata": {},
          "execution_count": 9
        }
      ],
      "source": [
        "trans_atlantic_slave_trade_df['place_of_landing'].value_counts()[:5]"
      ]
    },
    {
      "cell_type": "markdown",
      "id": "9bbe0198-c9b1-4527-9b3d-a09724730c4b",
      "metadata": {
        "id": "9bbe0198-c9b1-4527-9b3d-a09724730c4b"
      },
      "source": [
        "**Double click to edit cell**     \n",
        "The top five most common ports of arrival is Barbados, Jamaica, Kingston, Havana, and Cap Francis.\n",
        "</br>\n",
        "</br>\n",
        "</br>\n",
        "\n",
        "---\n"
      ]
    },
    {
      "cell_type": "markdown",
      "id": "c19dd975-9347-41f5-86e8-992b7bd26591",
      "metadata": {
        "id": "c19dd975-9347-41f5-86e8-992b7bd26591"
      },
      "source": [
        "### 8. Please plot the **top 5 enslavers/captors** from this dataset. Please choose the appropriate visualization (e.g. pie chart, bar chart) to display your finding."
      ]
    },
    {
      "cell_type": "code",
      "execution_count": 20,
      "id": "ab225554-bc39-4841-ac90-26ddca5cae0f",
      "metadata": {
        "id": "ab225554-bc39-4841-ac90-26ddca5cae0f",
        "colab": {
          "base_uri": "https://localhost:8080/",
          "height": 857
        },
        "outputId": "d682e630-4bd5-4f02-9fa7-2d3c1ac1ae8a"
      },
      "outputs": [
        {
          "output_type": "execute_result",
          "data": {
            "text/plain": [
              "<Axes: title={'center': 'Trans Atlantic Slave Trade:\\nMost Frequent \"Captors\"'}, xlabel='place_of_purchase'>"
            ]
          },
          "metadata": {},
          "execution_count": 20
        },
        {
          "output_type": "display_data",
          "data": {
            "text/plain": [
              "<Figure size 640x480 with 1 Axes>"
            ],
            "image/png": "[encoded data removed]"
          },
          "metadata": {}
        }
      ],
      "source": [
        "trans_atlantic_slave_trade_df['place_of_purchase'].value_counts()[:5].plot(kind='bar', title='Trans Atlantic Slave Trade:\\nMost Frequent \"Captors\"')"
      ]
    },
    {
      "cell_type": "markdown",
      "id": "30b9934a-80f7-495e-bcb8-3210c57ce3a7",
      "metadata": {
        "id": "30b9934a-80f7-495e-bcb8-3210c57ce3a7"
      },
      "source": [
        "-----"
      ]
    },
    {
      "cell_type": "markdown",
      "id": "7e04fc1a-4956-4f0e-a90b-c5b2e1f66199",
      "metadata": {
        "id": "7e04fc1a-4956-4f0e-a90b-c5b2e1f66199"
      },
      "source": [
        "### 9. Having briefly explored the dataset, what further questions have emerged as you explored this dataset?    \n",
        "\n",
        "Please share your thoughts in a few sentences."
      ]
    },
    {
      "cell_type": "markdown",
      "id": "28712b05-f6a8-4a12-897c-949f96aaa466",
      "metadata": {
        "id": "28712b05-f6a8-4a12-897c-949f96aaa466"
      },
      "source": [
        "**Double click to edit cell**     \n",
        "`Please type your answer here`\n",
        "</br>\n",
        "</br>\n",
        "</br>\n",
        "\n"
      ]
    },
    {
      "cell_type": "markdown",
      "id": "2721385e-5112-4bd0-a3da-deb1f793405a",
      "metadata": {
        "id": "2721385e-5112-4bd0-a3da-deb1f793405a"
      },
      "source": [
        "-----\n",
        "-----\n"
      ]
    },
    {
      "cell_type": "markdown",
      "id": "95ee26ad-cefa-4f9e-9e9f-6a635fb8900a",
      "metadata": {
        "id": "95ee26ad-cefa-4f9e-9e9f-6a635fb8900a"
      },
      "source": [
        "## Side quest challenge\n",
        "\n",
        "The side quest challenge is for extra credit. You can still get full credit for this activity even if you do not complete this challenge."
      ]
    },
    {
      "cell_type": "markdown",
      "id": "7699e2e7-deb7-411a-907b-e0b6760d3e14",
      "metadata": {
        "id": "7699e2e7-deb7-411a-907b-e0b6760d3e14"
      },
      "source": [
        "### 1. Which enslaver/captor had the highest difference between the total number of people who embarked and disembarked?\n",
        "\n",
        "**Hint:** You may need to [add a column](https://github.com/GCDigitalFellows/intro-pandas-dri-2022/blob/main/README.md#8-rename-select-drop-and-add-new-columns) to calculate the difference, use the [```.groupby```, ```.count()``` and ```.sort_values``` methods](https://github.com/GCDigitalFellows/intro-pandas-dri-2022/blob/main/README.md#9-sort-columns-groupby-columns--count-values) for this challenge."
      ]
    },
    {
      "cell_type": "code",
      "execution_count": null,
      "id": "f2f16094-80b6-4767-ba8e-a6b0784a63b6",
      "metadata": {
        "id": "f2f16094-80b6-4767-ba8e-a6b0784a63b6"
      },
      "outputs": [],
      "source": []
    },
    {
      "cell_type": "markdown",
      "id": "8a7e104a",
      "metadata": {
        "id": "8a7e104a"
      },
      "source": [
        "**Double click to edit cell**     \n",
        "`Please type your answer here`\n",
        "</br>\n",
        "</br>\n",
        "</br>\n",
        "\n",
        "---\n"
      ]
    }
  ],
  "metadata": {
    "kernelspec": {
      "display_name": "Python 3 (ipykernel)",
      "language": "python",
      "name": "python3"
    },
    "language_info": {
      "codemirror_mode": {
        "name": "ipython",
        "version": 3
      },
      "file_extension": ".py",
      "mimetype": "text/x-python",
      "name": "python",
      "nbconvert_exporter": "python",
      "pygments_lexer": "ipython3",
      "version": "3.11.5"
    },
    "colab": {
      "provenance": []
    }
  },
  "nbformat": 4,
  "nbformat_minor": 5
}